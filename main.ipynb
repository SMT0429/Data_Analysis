{
 "cells": [
  {
   "cell_type": "markdown",
   "metadata": {},
   "source": [
    "# Google Merch Shop Website EDA ＆ AFM analysis by k-means\n",
    "## 簡介\n",
    "此份分析主要是針對Google Merch Shop 的2016九月的網站做成效分析及應用AFM做客戶分群，並提供分析結論。資料來源：https://www.kaggle.com/datasets/bigquery/google-analytics-sample/data\n",
    "## 分析步驟\n",
    "### Step1:Define the problem\n",
    "### Step2:Data wrangling\n",
    "### Step3:Exploration data analysis\n",
    "### Step4:AFM analysis applied by K-means method\n",
    "### Step5:Insight,Summary and Next step"
   ]
  },
  {
   "cell_type": "markdown",
   "metadata": {},
   "source": []
  },
  {
   "cell_type": "markdown",
   "metadata": {},
   "source": [
    "## Step1: Define the problem\n",
    "### Promblem:\n",
    "- 1. 網站九月份的使用情形？\n",
    "- 2. 網站客群的輪廓？\n",
    "#### Promblem breakdown:\n",
    "1. 網站九月份的使用情形？ \n",
    "- 九月份每日的訪問量（sessions）有什麼變化？\n",
    "- Average Session Duration,是否存在短時停留（<10 秒）的高比例？\n",
    "2. 網站客群的輪廓？\n",
    "- 哪些國家或城市的訪問量最高？不同地區的轉化率差異？\n",
    "- 主要流量來源?哪個來源的流量轉化率最高？\n",
    "- 手機 vs 桌面 vs 平板流量佔比？哪個裝置的轉化率最高？\n",
    "- AFM分析（k-means）"
   ]
  },
  {
   "cell_type": "markdown",
   "metadata": {},
   "source": [
    "## Step2: Data Wrangling"
   ]
  },
  {
   "cell_type": "code",
   "execution_count": 2,
   "metadata": {},
   "outputs": [],
   "source": [
    "import numpy as np\n",
    "import pandas as pd\n",
    "import matplotlib.pyplot as plt\n",
    "import seaborn as sns"
   ]
  },
  {
   "cell_type": "markdown",
   "metadata": {},
   "source": []
  },
  {
   "cell_type": "code",
   "execution_count": 9,
   "metadata": {},
   "outputs": [
    {
     "name": "stdout",
     "output_type": "stream",
     "text": [
      "Requirement already satisfied: google-cloud-bigquery in /opt/anaconda3/envs/test2/lib/python3.9/site-packages (3.35.1)\n",
      "Requirement already satisfied: pandas in /opt/anaconda3/envs/test2/lib/python3.9/site-packages (2.2.3)\n",
      "Requirement already satisfied: google-api-core<3.0.0,>=2.11.1 in /opt/anaconda3/envs/test2/lib/python3.9/site-packages (from google-api-core[grpc]<3.0.0,>=2.11.1->google-cloud-bigquery) (2.25.1)\n",
      "Requirement already satisfied: google-auth<3.0.0,>=2.14.1 in /opt/anaconda3/envs/test2/lib/python3.9/site-packages (from google-cloud-bigquery) (2.40.3)\n",
      "Requirement already satisfied: google-cloud-core<3.0.0,>=2.4.1 in /opt/anaconda3/envs/test2/lib/python3.9/site-packages (from google-cloud-bigquery) (2.4.3)\n",
      "Requirement already satisfied: google-resumable-media<3.0.0,>=2.0.0 in /opt/anaconda3/envs/test2/lib/python3.9/site-packages (from google-cloud-bigquery) (2.7.2)\n",
      "Requirement already satisfied: packaging>=24.2.0 in /opt/anaconda3/envs/test2/lib/python3.9/site-packages (from google-cloud-bigquery) (24.2)\n",
      "Requirement already satisfied: python-dateutil<3.0.0,>=2.8.2 in /opt/anaconda3/envs/test2/lib/python3.9/site-packages (from google-cloud-bigquery) (2.9.0.post0)\n",
      "Requirement already satisfied: requests<3.0.0,>=2.21.0 in /opt/anaconda3/envs/test2/lib/python3.9/site-packages (from google-cloud-bigquery) (2.32.3)\n",
      "Requirement already satisfied: numpy>=1.22.4 in /opt/anaconda3/envs/test2/lib/python3.9/site-packages (from pandas) (2.0.2)\n",
      "Requirement already satisfied: pytz>=2020.1 in /opt/anaconda3/envs/test2/lib/python3.9/site-packages (from pandas) (2025.2)\n",
      "Requirement already satisfied: tzdata>=2022.7 in /opt/anaconda3/envs/test2/lib/python3.9/site-packages (from pandas) (2025.2)\n",
      "Requirement already satisfied: googleapis-common-protos<2.0.0,>=1.56.2 in /opt/anaconda3/envs/test2/lib/python3.9/site-packages (from google-api-core<3.0.0,>=2.11.1->google-api-core[grpc]<3.0.0,>=2.11.1->google-cloud-bigquery) (1.70.0)\n",
      "Requirement already satisfied: protobuf!=3.20.0,!=3.20.1,!=4.21.0,!=4.21.1,!=4.21.2,!=4.21.3,!=4.21.4,!=4.21.5,<7.0.0,>=3.19.5 in /opt/anaconda3/envs/test2/lib/python3.9/site-packages (from google-api-core<3.0.0,>=2.11.1->google-api-core[grpc]<3.0.0,>=2.11.1->google-cloud-bigquery) (6.31.1)\n",
      "Requirement already satisfied: proto-plus<2.0.0,>=1.22.3 in /opt/anaconda3/envs/test2/lib/python3.9/site-packages (from google-api-core<3.0.0,>=2.11.1->google-api-core[grpc]<3.0.0,>=2.11.1->google-cloud-bigquery) (1.26.1)\n",
      "Requirement already satisfied: grpcio<2.0.0,>=1.33.2 in /opt/anaconda3/envs/test2/lib/python3.9/site-packages (from google-api-core[grpc]<3.0.0,>=2.11.1->google-cloud-bigquery) (1.74.0)\n",
      "Requirement already satisfied: grpcio-status<2.0.0,>=1.33.2 in /opt/anaconda3/envs/test2/lib/python3.9/site-packages (from google-api-core[grpc]<3.0.0,>=2.11.1->google-cloud-bigquery) (1.74.0)\n",
      "Requirement already satisfied: cachetools<6.0,>=2.0.0 in /opt/anaconda3/envs/test2/lib/python3.9/site-packages (from google-auth<3.0.0,>=2.14.1->google-cloud-bigquery) (5.5.2)\n",
      "Requirement already satisfied: pyasn1-modules>=0.2.1 in /opt/anaconda3/envs/test2/lib/python3.9/site-packages (from google-auth<3.0.0,>=2.14.1->google-cloud-bigquery) (0.4.2)\n",
      "Requirement already satisfied: rsa<5,>=3.1.4 in /opt/anaconda3/envs/test2/lib/python3.9/site-packages (from google-auth<3.0.0,>=2.14.1->google-cloud-bigquery) (4.9.1)\n",
      "Requirement already satisfied: google-crc32c<2.0dev,>=1.0 in /opt/anaconda3/envs/test2/lib/python3.9/site-packages (from google-resumable-media<3.0.0,>=2.0.0->google-cloud-bigquery) (1.7.1)\n",
      "Requirement already satisfied: six>=1.5 in /opt/anaconda3/envs/test2/lib/python3.9/site-packages (from python-dateutil<3.0.0,>=2.8.2->google-cloud-bigquery) (1.16.0)\n",
      "Requirement already satisfied: charset-normalizer<4,>=2 in /opt/anaconda3/envs/test2/lib/python3.9/site-packages (from requests<3.0.0,>=2.21.0->google-cloud-bigquery) (3.3.2)\n",
      "Requirement already satisfied: idna<4,>=2.5 in /opt/anaconda3/envs/test2/lib/python3.9/site-packages (from requests<3.0.0,>=2.21.0->google-cloud-bigquery) (3.7)\n",
      "Requirement already satisfied: urllib3<3,>=1.21.1 in /opt/anaconda3/envs/test2/lib/python3.9/site-packages (from requests<3.0.0,>=2.21.0->google-cloud-bigquery) (2.3.0)\n",
      "Requirement already satisfied: certifi>=2017.4.17 in /opt/anaconda3/envs/test2/lib/python3.9/site-packages (from requests<3.0.0,>=2.21.0->google-cloud-bigquery) (2025.1.31)\n",
      "Requirement already satisfied: pyasn1<0.7.0,>=0.6.1 in /opt/anaconda3/envs/test2/lib/python3.9/site-packages (from pyasn1-modules>=0.2.1->google-auth<3.0.0,>=2.14.1->google-cloud-bigquery) (0.6.1)\n"
     ]
    }
   ],
   "source": [
    "!pip install google-cloud-bigquery pandas\n"
   ]
  },
  {
   "cell_type": "code",
   "execution_count": 7,
   "metadata": {},
   "outputs": [
    {
     "name": "stdout",
     "output_type": "stream",
     "text": [
      "Requirement already satisfied: db-dtypes in /opt/anaconda3/envs/test2/lib/python3.9/site-packages (1.4.3)\n",
      "Requirement already satisfied: numpy>=1.24.0 in /opt/anaconda3/envs/test2/lib/python3.9/site-packages (from db-dtypes) (2.0.2)\n",
      "Requirement already satisfied: packaging>=24.2.0 in /opt/anaconda3/envs/test2/lib/python3.9/site-packages (from db-dtypes) (24.2)\n",
      "Requirement already satisfied: pandas>=1.5.3 in /opt/anaconda3/envs/test2/lib/python3.9/site-packages (from db-dtypes) (2.2.3)\n",
      "Requirement already satisfied: pyarrow>=13.0.0 in /opt/anaconda3/envs/test2/lib/python3.9/site-packages (from db-dtypes) (21.0.0)\n",
      "Requirement already satisfied: python-dateutil>=2.8.2 in /opt/anaconda3/envs/test2/lib/python3.9/site-packages (from pandas>=1.5.3->db-dtypes) (2.9.0.post0)\n",
      "Requirement already satisfied: pytz>=2020.1 in /opt/anaconda3/envs/test2/lib/python3.9/site-packages (from pandas>=1.5.3->db-dtypes) (2025.2)\n",
      "Requirement already satisfied: tzdata>=2022.7 in /opt/anaconda3/envs/test2/lib/python3.9/site-packages (from pandas>=1.5.3->db-dtypes) (2025.2)\n",
      "Requirement already satisfied: six>=1.5 in /opt/anaconda3/envs/test2/lib/python3.9/site-packages (from python-dateutil>=2.8.2->pandas>=1.5.3->db-dtypes) (1.16.0)\n",
      "Note: you may need to restart the kernel to use updated packages.\n"
     ]
    }
   ],
   "source": [
    "pip install db-dtypes\n"
   ]
  },
  {
   "cell_type": "code",
   "execution_count": 8,
   "metadata": {},
   "outputs": [
    {
     "name": "stdout",
     "output_type": "stream",
     "text": [
      "資料成功下載並轉換為 DataFrame！\n",
      "   visitorId  visitNumber     visitId  visitStartTime      date  \\\n",
      "0       <NA>            5  1473815616      1473815616  20160913   \n",
      "1       <NA>            3  1473186877      1473186877  20160906   \n",
      "2       <NA>            2  1473214674      1473214674  20160906   \n",
      "3       <NA>           13  1473195039      1473195039  20160906   \n",
      "4       <NA>            1  1472854833      1472854833  20160902   \n",
      "\n",
      "                                              totals  \\\n",
      "0  {'visits': 1, 'hits': 84, 'pageviews': 60, 'ti...   \n",
      "1  {'visits': 1, 'hits': 52, 'pageviews': 34, 'ti...   \n",
      "2  {'visits': 1, 'hits': 90, 'pageviews': 66, 'ti...   \n",
      "3  {'visits': 1, 'hits': 165, 'pageviews': 115, '...   \n",
      "4  {'visits': 1, 'hits': 12, 'pageviews': 8, 'tim...   \n",
      "\n",
      "                                       trafficSource  \\\n",
      "0  {'referralPath': None, 'campaign': '(not set)'...   \n",
      "1  {'referralPath': None, 'campaign': 'AW - Dynam...   \n",
      "2  {'referralPath': '/', 'campaign': '(not set)',...   \n",
      "3  {'referralPath': None, 'campaign': '(not set)'...   \n",
      "4  {'referralPath': None, 'campaign': '(not set)'...   \n",
      "\n",
      "                                              device  \\\n",
      "0  {'browser': 'Chrome', 'browserVersion': 'not a...   \n",
      "1  {'browser': 'Chrome', 'browserVersion': 'not a...   \n",
      "2  {'browser': 'Chrome', 'browserVersion': 'not a...   \n",
      "3  {'browser': 'Chrome', 'browserVersion': 'not a...   \n",
      "4  {'browser': 'Safari', 'browserVersion': 'not a...   \n",
      "\n",
      "                                          geoNetwork  \\\n",
      "0  {'continent': 'Americas', 'subContinent': 'Nor...   \n",
      "1  {'continent': 'Americas', 'subContinent': 'Nor...   \n",
      "2  {'continent': 'Americas', 'subContinent': 'Nor...   \n",
      "3  {'continent': 'Americas', 'subContinent': 'Nor...   \n",
      "4  {'continent': 'Europe', 'subContinent': 'North...   \n",
      "\n",
      "                           customDimensions  \\\n",
      "0  [{'index': 4, 'value': 'North America'}]   \n",
      "1  [{'index': 4, 'value': 'North America'}]   \n",
      "2  [{'index': 4, 'value': 'North America'}]   \n",
      "3  [{'index': 4, 'value': 'North America'}]   \n",
      "4           [{'index': 4, 'value': 'EMEA'}]   \n",
      "\n",
      "                                                hits        fullVisitorId  \\\n",
      "0  [{'hitNumber': 1, 'time': 0, 'hour': 18, 'minu...  2287637838474850444   \n",
      "1  [{'hitNumber': 1, 'time': 0, 'hour': 11, 'minu...  2986064566980892993   \n",
      "2  [{'hitNumber': 1, 'time': 0, 'hour': 19, 'minu...  2384690472453465720   \n",
      "3  [{'hitNumber': 1, 'time': 0, 'hour': 13, 'minu...  9377429831454005466   \n",
      "4  [{'hitNumber': 1, 'time': 0, 'hour': 15, 'minu...  9160467530156789469   \n",
      "\n",
      "  userId clientId channelGrouping  socialEngagementType  \n",
      "0   None     None          Direct  Not Socially Engaged  \n",
      "1   None     None     Paid Search  Not Socially Engaged  \n",
      "2   None     None        Referral  Not Socially Engaged  \n",
      "3   None     None  Organic Search  Not Socially Engaged  \n",
      "4   None     None  Organic Search  Not Socially Engaged  \n"
     ]
    }
   ],
   "source": [
    "from google.cloud import bigquery\n",
    "import pandas as pd\n",
    "import os\n",
    "\n",
    "#金鑰檔案的實際路徑\n",
    "key_file_path = \"/Users/smt/Documents/Code/DS/website_traffic/gen-lang-client-0249061651-fc2b60448fe9.json\"\n",
    "\n",
    "# 設定環境變數\n",
    "os.environ[\"GOOGLE_APPLICATION_CREDENTIALS\"] = key_file_path\n",
    "# 創建 BigQuery 客戶端。這會自動使用 GOOGLE_APPLICATION_CREDENTIALS 環境變數中的金鑰檔案。\n",
    "client = bigquery.Client()\n",
    "\n",
    "# 定義要查詢的資料表 ID\n",
    "table_id = \"bigquery-public-data.google_analytics_sample.ga_sessions_20170801\"\n",
    "\n",
    "# 構建 SQL 查詢\n",
    "\n",
    "query = \"\"\"\n",
    "    SELECT *\n",
    "    FROM `bigquery-public-data.google_analytics_sample.ga_sessions_*`\n",
    "    WHERE _TABLE_SUFFIX BETWEEN '20160901' AND '20160930'\n",
    "    ;\n",
    "\"\"\"\n",
    "\n",
    "# 執行查詢並將結果儲存到 DataFrame\n",
    "try:\n",
    "    query_job = client.query(query)\n",
    "    # 將查詢結果轉換為 Pandas DataFrame\n",
    "    df = query_job.to_dataframe()\n",
    "\n",
    "    print(\"資料成功下載並轉換為 DataFrame！\")\n",
    "    print(df.head())\n",
    "\n",
    "except Exception as e:\n",
    "    print(f\"發生錯誤: {e}\")"
   ]
  },
  {
   "cell_type": "code",
   "execution_count": 10,
   "metadata": {},
   "outputs": [
    {
     "name": "stdout",
     "output_type": "stream",
     "text": [
      "<class 'pandas.core.frame.DataFrame'>\n",
      "RangeIndex: 71032 entries, 0 to 71031\n",
      "Data columns (total 16 columns):\n",
      " #   Column                Non-Null Count  Dtype \n",
      "---  ------                --------------  ----- \n",
      " 0   visitorId             0 non-null      Int64 \n",
      " 1   visitNumber           71032 non-null  Int64 \n",
      " 2   visitId               71032 non-null  Int64 \n",
      " 3   visitStartTime        71032 non-null  Int64 \n",
      " 4   date                  71032 non-null  object\n",
      " 5   totals                71032 non-null  object\n",
      " 6   trafficSource         71032 non-null  object\n",
      " 7   device                71032 non-null  object\n",
      " 8   geoNetwork            71032 non-null  object\n",
      " 9   customDimensions      71032 non-null  object\n",
      " 10  hits                  71032 non-null  object\n",
      " 11  fullVisitorId         71032 non-null  object\n",
      " 12  userId                0 non-null      object\n",
      " 13  clientId              0 non-null      object\n",
      " 14  channelGrouping       71032 non-null  object\n",
      " 15  socialEngagementType  71032 non-null  object\n",
      "dtypes: Int64(4), object(12)\n",
      "memory usage: 8.9+ MB\n"
     ]
    }
   ],
   "source": [
    "df.info()"
   ]
  },
  {
   "cell_type": "code",
   "execution_count": null,
   "metadata": {},
   "outputs": [
    {
     "name": "stdout",
     "output_type": "stream",
     "text": [
      "<class 'pandas.core.frame.DataFrame'>\n",
      "RangeIndex: 71032 entries, 0 to 71031\n",
      "Data columns (total 5 columns):\n",
      " #   Column                Non-Null Count  Dtype \n",
      "---  ------                --------------  ----- \n",
      " 0   visitNumber           71032 non-null  Int64 \n",
      " 1   date                  71032 non-null  object\n",
      " 2   fullVisitorId         71032 non-null  object\n",
      " 3   channelGrouping       71032 non-null  object\n",
      " 4   socialEngagementType  71032 non-null  object\n",
      "dtypes: Int64(1), object(4)\n",
      "memory usage: 2.8+ MB\n"
     ]
    }
   ],
   "source": [
    "df.isnull().any()\n",
    "df1 = df.drop(columns=['visitId','visitorId','userId','clientId','visitStartTime','totals','trafficSource','device','geoNetwork','customDimensions','hits'], axis=1)\n",
    "df1.info()"
   ]
  },
  {
   "cell_type": "code",
   "execution_count": 13,
   "metadata": {},
   "outputs": [
    {
     "data": {
      "text/plain": [
       "visitNumber                                    5\n",
       "date                                    20160913\n",
       "fullVisitorId                2287637838474850444\n",
       "channelGrouping                           Direct\n",
       "socialEngagementType        Not Socially Engaged\n",
       "totalsVisits                                   1\n",
       "totalsHits                                    84\n",
       "totalsBounces                                NaN\n",
       "totalsTransactions                           1.0\n",
       "totalsTransactionRevenue             328200000.0\n",
       "totalsTimeOnSite                          1367.0\n",
       "subContinent                    Northern America\n",
       "country                            United States\n",
       "device                                   desktop\n",
       "Name: 0, dtype: object"
      ]
     },
     "execution_count": 13,
     "metadata": {},
     "output_type": "execute_result"
    }
   ],
   "source": [
    "# visit,hits,bounces,transactions,totalTransactionRevenue,subContinent,country,timeOnSite,deviceCategory\n",
    "df1['totalsVisits'] = df['totals'].apply(lambda x: x.get('visits'))\n",
    "df1['totalsHits'] = df['totals'].apply(lambda x: x.get('hits'))\n",
    "df1['totalsBounces'] = df['totals'].apply(lambda x: x.get('bounces'))\n",
    "df1['totalsTransactions'] = df['totals'].apply(lambda x: x.get('transactions'))\n",
    "df1['totalsTransactionRevenue'] = df['totals'].apply(lambda x: x.get('totalTransactionRevenue'))\n",
    "df1['totalsTimeOnSite'] = df['totals'].apply(lambda x: x.get('timeOnSite'))\n",
    "df1['subContinent'] = df['geoNetwork'].apply(lambda x: x.get('subContinent'))\n",
    "df1['country'] = df['geoNetwork'].apply(lambda x: x.get('country'))\n",
    "df1['device'] = df['device'].apply(lambda x: x.get('deviceCategory'))\n",
    "\n",
    "\n",
    "df1.iloc[0]"
   ]
  },
  {
   "cell_type": "code",
   "execution_count": 14,
   "metadata": {},
   "outputs": [
    {
     "data": {
      "text/plain": [
       "0       2016-09-13\n",
       "1       2016-09-06\n",
       "2       2016-09-06\n",
       "3       2016-09-06\n",
       "4       2016-09-02\n",
       "           ...    \n",
       "71027   2016-09-08\n",
       "71028   2016-09-16\n",
       "71029   2016-09-16\n",
       "71030   2016-09-12\n",
       "71031   2016-09-26\n",
       "Name: date, Length: 71032, dtype: datetime64[ns]"
      ]
     },
     "execution_count": 14,
     "metadata": {},
     "output_type": "execute_result"
    }
   ],
   "source": [
    "df1['date']= pd.to_datetime(df1['date'])\n",
    "df1['date']"
   ]
  },
  {
   "cell_type": "code",
   "execution_count": 15,
   "metadata": {},
   "outputs": [
    {
     "name": "stdout",
     "output_type": "stream",
     "text": [
      "<class 'pandas.core.frame.DataFrame'>\n",
      "RangeIndex: 71032 entries, 0 to 71031\n",
      "Data columns (total 14 columns):\n",
      " #   Column                    Non-Null Count  Dtype         \n",
      "---  ------                    --------------  -----         \n",
      " 0   visitNumber               71032 non-null  Int64         \n",
      " 1   date                      71032 non-null  datetime64[ns]\n",
      " 2   fullVisitorId             71032 non-null  object        \n",
      " 3   channelGrouping           71032 non-null  object        \n",
      " 4   socialEngagementType      71032 non-null  object        \n",
      " 5   totalsVisits              71032 non-null  int64         \n",
      " 6   totalsHits                71032 non-null  int64         \n",
      " 7   totalsBounces             34808 non-null  float64       \n",
      " 8   totalsTransactions        870 non-null    float64       \n",
      " 9   totalsTransactionRevenue  859 non-null    float64       \n",
      " 10  totalsTimeOnSite          36131 non-null  float64       \n",
      " 11  subContinent              71032 non-null  object        \n",
      " 12  country                   71032 non-null  object        \n",
      " 13  device                    71032 non-null  object        \n",
      "dtypes: Int64(1), datetime64[ns](1), float64(4), int64(2), object(6)\n",
      "memory usage: 7.7+ MB\n"
     ]
    }
   ],
   "source": [
    "df1.info()"
   ]
  },
  {
   "cell_type": "markdown",
   "metadata": {},
   "source": [
    "## Step3: Exploration Data Analysis"
   ]
  },
  {
   "cell_type": "code",
   "execution_count": 21,
   "metadata": {},
   "outputs": [
    {
     "data": {
      "text/plain": [
       "Text(0.5, 1.0, 'daily_traffic')"
      ]
     },
     "execution_count": 21,
     "metadata": {},
     "output_type": "execute_result"
    },
    {
     "data": {
      "image/png": "[encoded data removed]",
      "text/plain": [
       "<Figure size 1000x600 with 1 Axes>"
      ]
     },
     "metadata": {},
     "output_type": "display_data"
    }
   ],
   "source": [
    "from scipy.signal import find_peaks\n",
    "\n",
    "daily_traffic=df1.groupby('date').size() #session\n",
    "peaks,_ = find_peaks(daily_traffic,distance=5)\n",
    "lows, _ = find_peaks(-daily_traffic,distance=5)\n",
    "daily_traffic.plot(figsize = (10,6))\n",
    "plt.plot(daily_traffic.index[peaks],daily_traffic.iloc[peaks],'o')\n",
    "plt.plot(daily_traffic.index[lows],daily_traffic.iloc[lows],'v')\n",
    "plt.ylabel('session')\n",
    "plt.title('daily_traffic')\n",
    "\n",
    "\n"
   ]
  },
  {
   "cell_type": "code",
   "execution_count": null,
   "metadata": {},
   "outputs": [
    {
     "name": "stdout",
     "output_type": "stream",
     "text": [
      "0    3\n",
      "1    3\n",
      "2    1\n",
      "3    0\n",
      "dtype: int32 0    6\n",
      "1    5\n",
      "2    6\n",
      "3    5\n",
      "dtype: int32\n"
     ]
    }
   ],
   "source": [
    "peaks_w = pd.Series(['2016-09-08','2016-09-15','2016-09-20','2016-09-26'])\n",
    "PW= pd.to_datetime(peaks_w).dt.dayofweek\n",
    "lows_w = pd.Series(['2016-09-04','2016-09-10','2016-09-18','2016-09-24'])\n",
    "LW = pd.to_datetime(lows_w).dt.dayofweek\n",
    "print(PW,LW)"
   ]
  },
  {
   "cell_type": "markdown",
   "metadata": {},
   "source": [
    "Insight:週末的流量偏低？推測主要訪客是基於活動或企業採購，因此才會於平日時段造訪此網站"
   ]
  },
  {
   "cell_type": "code",
   "execution_count": 48,
   "metadata": {},
   "outputs": [
    {
     "name": "stdout",
     "output_type": "stream",
     "text": [
      "Average Session Duration is  281.0 (in seconds)\n",
      "Short term visit proportion: 0.39\n"
     ]
    },
    {
     "data": {
      "image/png": "[encoded data removed]",
      "text/plain": [
       "<Figure size 640x480 with 1 Axes>"
      ]
     },
     "metadata": {},
     "output_type": "display_data"
    }
   ],
   "source": [
    "# Average Session Duration多少？是否存在短時停留（<10 秒）的高比例？\n",
    "ASD=df1['totalsTimeOnSite'].mean()\n",
    "sns.histplot(df1['totalsTimeOnSite'])\n",
    "lowSession=df1[df1['totalsTimeOnSite']<10].size / df1['totalsTimeOnSite'].size\n",
    "print('Average Session Duration is ',round(ASD,1),'(in seconds)')\n",
    "print('Short term visit proportion:',round(lowSession,2))\n"
   ]
  },
  {
   "cell_type": "markdown",
   "metadata": {},
   "source": [
    "Insight:平均停留時間約四分鐘，短暫停留比例約4成"
   ]
  },
  {
   "cell_type": "code",
   "execution_count": 24,
   "metadata": {},
   "outputs": [
    {
     "data": {
      "text/plain": [
       "country\n",
       "United States    0.031235\n",
       "Puerto Rico      0.021277\n",
       "Portugal         0.007407\n",
       "Hong Kong        0.005391\n",
       "South Africa     0.005076\n",
       "Chile            0.004739\n",
       "Canada           0.004475\n",
       "Singapore        0.004464\n",
       "South Korea      0.002865\n",
       "Saudi Arabia     0.002817\n",
       "dtype: float64"
      ]
     },
     "execution_count": 24,
     "metadata": {},
     "output_type": "execute_result"
    },
    {
     "data": {
      "image/png": "[encoded data removed]",
      "text/plain": [
       "<Figure size 1500x600 with 1 Axes>"
      ]
     },
     "metadata": {},
     "output_type": "display_data"
    }
   ],
   "source": [
    "# By country\n",
    "CS=df1.groupby('country')['totalsTimeOnSite'].sum().nlargest(10)\n",
    "CS.plot(kind='bar',figsize=(15,6))\n",
    "# CR:total transaction/ total session\n",
    "CCR = df1.groupby('country')['totalsTransactions'].sum() / df1.groupby('country').size()\n",
    "CCR.nlargest(10)"
   ]
  },
  {
   "cell_type": "markdown",
   "metadata": {},
   "source": [
    "Insight:主要訪客是來自於USA，USA的轉換率也是所有國家中最高，值得注意的是Canada、India、UK，這幾個訪問量較低，但轉換率好的國家"
   ]
  },
  {
   "cell_type": "code",
   "execution_count": 25,
   "metadata": {},
   "outputs": [
    {
     "data": {
      "text/plain": [
       "channelGrouping\n",
       "(Other)           0.000000\n",
       "Affiliates        0.000000\n",
       "Direct            0.016378\n",
       "Display           0.026442\n",
       "Organic Search    0.010298\n",
       "Paid Search       0.022026\n",
       "Referral          0.054192\n",
       "Social            0.000283\n",
       "dtype: float64"
      ]
     },
     "execution_count": 25,
     "metadata": {},
     "output_type": "execute_result"
    },
    {
     "data": {
      "image/png": "[encoded data removed]",
      "text/plain": [
       "<Figure size 1500x600 with 1 Axes>"
      ]
     },
     "metadata": {},
     "output_type": "display_data"
    }
   ],
   "source": [
    "# by channelGrouping\n",
    "CGS=df1.groupby('channelGrouping')['totalsTimeOnSite'].sum()\n",
    "CGS.plot(kind='bar',figsize=(15,6))\n",
    "# CR:total transaction/ total session\n",
    "CGCR = df1.groupby('channelGrouping')['totalsTransactions'].sum() / df1.groupby('channelGrouping').size()\n",
    "CGCR"
   ]
  },
  {
   "cell_type": "markdown",
   "metadata": {},
   "source": [
    "Insight:Organic Search（自然搜尋）和 Social（社群媒體）的數值偏低，這可能意味著網站的內容行銷（SEO）或社群媒體經營還有很大的成長空間。值得注意的是Display、Paid Search廣告的轉換率並不好"
   ]
  },
  {
   "cell_type": "code",
   "execution_count": 26,
   "metadata": {},
   "outputs": [
    {
     "data": {
      "text/plain": [
       "device\n",
       "desktop    0.014756\n",
       "mobile     0.004336\n",
       "tablet     0.005058\n",
       "dtype: float64"
      ]
     },
     "execution_count": 26,
     "metadata": {},
     "output_type": "execute_result"
    },
    {
     "data": {
      "image/png": "[encoded data removed]",
      "text/plain": [
       "<Figure size 1500x600 with 1 Axes>"
      ]
     },
     "metadata": {},
     "output_type": "display_data"
    }
   ],
   "source": [
    "# by device\n",
    "DS=df1.groupby('device')['totalsTimeOnSite'].sum()\n",
    "DS.plot(kind='bar',figsize=(15,6))\n",
    "# CR:total transaction/ total session\n",
    "DCR = df1.groupby('device')['totalsTransactions'].sum() / df1.groupby('device').size()\n",
    "DCR"
   ]
  },
  {
   "cell_type": "markdown",
   "metadata": {},
   "source": [
    "Insight:大部分的人都是桌電，可以應證訪客很可能大部分都是因活動或企業採購用途"
   ]
  },
  {
   "cell_type": "markdown",
   "metadata": {},
   "source": [
    "## Step4: AFM analysis applied by K-means method\n",
    "有別於常見的RFM，這次分群方法使用AFM(Activity-Frequency-Monetary)，原因是這次使用的是九月的資料，Recency的維度會比較不適合應用在僅有單月的資料上，所以使用RFM的變形AFM。"
   ]
  },
  {
   "cell_type": "code",
   "execution_count": 129,
   "metadata": {},
   "outputs": [
    {
     "data": {
      "text/html": [
       "<div>\n",
       "<style scoped>\n",
       "    .dataframe tbody tr th:only-of-type {\n",
       "        vertical-align: middle;\n",
       "    }\n",
       "\n",
       "    .dataframe tbody tr th {\n",
       "        vertical-align: top;\n",
       "    }\n",
       "\n",
       "    .dataframe thead th {\n",
       "        text-align: right;\n",
       "    }\n",
       "</style>\n",
       "<table border=\"1\" class=\"dataframe\">\n",
       "  <thead>\n",
       "    <tr style=\"text-align: right;\">\n",
       "      <th></th>\n",
       "      <th>ID</th>\n",
       "      <th>Activity</th>\n",
       "      <th>Frequency</th>\n",
       "      <th>Monetary</th>\n",
       "    </tr>\n",
       "  </thead>\n",
       "  <tbody>\n",
       "    <tr>\n",
       "      <th>122</th>\n",
       "      <td>0020502892485275044</td>\n",
       "      <td>162</td>\n",
       "      <td>1</td>\n",
       "      <td>5.77</td>\n",
       "    </tr>\n",
       "    <tr>\n",
       "      <th>129</th>\n",
       "      <td>0021939395292136520</td>\n",
       "      <td>107</td>\n",
       "      <td>1</td>\n",
       "      <td>35.95</td>\n",
       "    </tr>\n",
       "    <tr>\n",
       "      <th>157</th>\n",
       "      <td>0026203741366904270</td>\n",
       "      <td>105</td>\n",
       "      <td>5</td>\n",
       "      <td>298.07</td>\n",
       "    </tr>\n",
       "    <tr>\n",
       "      <th>188</th>\n",
       "      <td>0032288790526152703</td>\n",
       "      <td>9</td>\n",
       "      <td>1</td>\n",
       "      <td>28.99</td>\n",
       "    </tr>\n",
       "    <tr>\n",
       "      <th>209</th>\n",
       "      <td>0036417634769000138</td>\n",
       "      <td>48</td>\n",
       "      <td>2</td>\n",
       "      <td>34.48</td>\n",
       "    </tr>\n",
       "    <tr>\n",
       "      <th>...</th>\n",
       "      <td>...</td>\n",
       "      <td>...</td>\n",
       "      <td>...</td>\n",
       "      <td>...</td>\n",
       "    </tr>\n",
       "    <tr>\n",
       "      <th>58884</th>\n",
       "      <td>9964156711625932045</td>\n",
       "      <td>27</td>\n",
       "      <td>1</td>\n",
       "      <td>11.56</td>\n",
       "    </tr>\n",
       "    <tr>\n",
       "      <th>58895</th>\n",
       "      <td>9965495974379156538</td>\n",
       "      <td>30</td>\n",
       "      <td>1</td>\n",
       "      <td>30.30</td>\n",
       "    </tr>\n",
       "    <tr>\n",
       "      <th>58942</th>\n",
       "      <td>9975702176622548240</td>\n",
       "      <td>110</td>\n",
       "      <td>4</td>\n",
       "      <td>42.74</td>\n",
       "    </tr>\n",
       "    <tr>\n",
       "      <th>59024</th>\n",
       "      <td>9988272152672987767</td>\n",
       "      <td>80</td>\n",
       "      <td>1</td>\n",
       "      <td>36.96</td>\n",
       "    </tr>\n",
       "    <tr>\n",
       "      <th>59028</th>\n",
       "      <td>9988700586657346958</td>\n",
       "      <td>28</td>\n",
       "      <td>1</td>\n",
       "      <td>24.49</td>\n",
       "    </tr>\n",
       "  </tbody>\n",
       "</table>\n",
       "<p>787 rows × 4 columns</p>\n",
       "</div>"
      ],
      "text/plain": [
       "                        ID  Activity  Frequency  Monetary\n",
       "122    0020502892485275044       162          1      5.77\n",
       "129    0021939395292136520       107          1     35.95\n",
       "157    0026203741366904270       105          5    298.07\n",
       "188    0032288790526152703         9          1     28.99\n",
       "209    0036417634769000138        48          2     34.48\n",
       "...                    ...       ...        ...       ...\n",
       "58884  9964156711625932045        27          1     11.56\n",
       "58895  9965495974379156538        30          1     30.30\n",
       "58942  9975702176622548240       110          4     42.74\n",
       "59024  9988272152672987767        80          1     36.96\n",
       "59028  9988700586657346958        28          1     24.49\n",
       "\n",
       "[787 rows x 4 columns]"
      ]
     },
     "execution_count": 129,
     "metadata": {},
     "output_type": "execute_result"
    }
   ],
   "source": [
    "AFM = df1.groupby('fullVisitorId').agg({\n",
    "    'totalsHits':'sum',\n",
    "    'totalsVisits':'sum',\n",
    "    'totalsTransactionRevenue':'sum'\n",
    "}).reset_index()\n",
    "AFM.columns=['ID','Activity','Frequency','Monetary']\n",
    "AFM = AFM[AFM['Monetary']>0]\n",
    "AFM['Monetary'] = AFM['Monetary']/(10**6)\n",
    "AFM"
   ]
  },
  {
   "cell_type": "code",
   "execution_count": 130,
   "metadata": {},
   "outputs": [
    {
     "data": {
      "text/html": [
       "<div>\n",
       "<style scoped>\n",
       "    .dataframe tbody tr th:only-of-type {\n",
       "        vertical-align: middle;\n",
       "    }\n",
       "\n",
       "    .dataframe tbody tr th {\n",
       "        vertical-align: top;\n",
       "    }\n",
       "\n",
       "    .dataframe thead th {\n",
       "        text-align: right;\n",
       "    }\n",
       "</style>\n",
       "<table border=\"1\" class=\"dataframe\">\n",
       "  <thead>\n",
       "    <tr style=\"text-align: right;\">\n",
       "      <th></th>\n",
       "      <th>ID</th>\n",
       "      <th>Activity</th>\n",
       "      <th>Frequency</th>\n",
       "      <th>Monetary</th>\n",
       "    </tr>\n",
       "  </thead>\n",
       "  <tbody>\n",
       "    <tr>\n",
       "      <th>122</th>\n",
       "      <td>0020502892485275044</td>\n",
       "      <td>162</td>\n",
       "      <td>1</td>\n",
       "      <td>5.77</td>\n",
       "    </tr>\n",
       "    <tr>\n",
       "      <th>129</th>\n",
       "      <td>0021939395292136520</td>\n",
       "      <td>107</td>\n",
       "      <td>1</td>\n",
       "      <td>35.95</td>\n",
       "    </tr>\n",
       "    <tr>\n",
       "      <th>157</th>\n",
       "      <td>0026203741366904270</td>\n",
       "      <td>105</td>\n",
       "      <td>5</td>\n",
       "      <td>298.07</td>\n",
       "    </tr>\n",
       "    <tr>\n",
       "      <th>188</th>\n",
       "      <td>0032288790526152703</td>\n",
       "      <td>9</td>\n",
       "      <td>1</td>\n",
       "      <td>28.99</td>\n",
       "    </tr>\n",
       "    <tr>\n",
       "      <th>209</th>\n",
       "      <td>0036417634769000138</td>\n",
       "      <td>48</td>\n",
       "      <td>2</td>\n",
       "      <td>34.48</td>\n",
       "    </tr>\n",
       "    <tr>\n",
       "      <th>...</th>\n",
       "      <td>...</td>\n",
       "      <td>...</td>\n",
       "      <td>...</td>\n",
       "      <td>...</td>\n",
       "    </tr>\n",
       "    <tr>\n",
       "      <th>58884</th>\n",
       "      <td>9964156711625932045</td>\n",
       "      <td>27</td>\n",
       "      <td>1</td>\n",
       "      <td>11.56</td>\n",
       "    </tr>\n",
       "    <tr>\n",
       "      <th>58895</th>\n",
       "      <td>9965495974379156538</td>\n",
       "      <td>30</td>\n",
       "      <td>1</td>\n",
       "      <td>30.30</td>\n",
       "    </tr>\n",
       "    <tr>\n",
       "      <th>58942</th>\n",
       "      <td>9975702176622548240</td>\n",
       "      <td>110</td>\n",
       "      <td>4</td>\n",
       "      <td>42.74</td>\n",
       "    </tr>\n",
       "    <tr>\n",
       "      <th>59024</th>\n",
       "      <td>9988272152672987767</td>\n",
       "      <td>80</td>\n",
       "      <td>1</td>\n",
       "      <td>36.96</td>\n",
       "    </tr>\n",
       "    <tr>\n",
       "      <th>59028</th>\n",
       "      <td>9988700586657346958</td>\n",
       "      <td>28</td>\n",
       "      <td>1</td>\n",
       "      <td>24.49</td>\n",
       "    </tr>\n",
       "  </tbody>\n",
       "</table>\n",
       "<p>787 rows × 4 columns</p>\n",
       "</div>"
      ],
      "text/plain": [
       "                        ID  Activity  Frequency  Monetary\n",
       "122    0020502892485275044       162          1      5.77\n",
       "129    0021939395292136520       107          1     35.95\n",
       "157    0026203741366904270       105          5    298.07\n",
       "188    0032288790526152703         9          1     28.99\n",
       "209    0036417634769000138        48          2     34.48\n",
       "...                    ...       ...        ...       ...\n",
       "58884  9964156711625932045        27          1     11.56\n",
       "58895  9965495974379156538        30          1     30.30\n",
       "58942  9975702176622548240       110          4     42.74\n",
       "59024  9988272152672987767        80          1     36.96\n",
       "59028  9988700586657346958        28          1     24.49\n",
       "\n",
       "[787 rows x 4 columns]"
      ]
     },
     "execution_count": 130,
     "metadata": {},
     "output_type": "execute_result"
    }
   ],
   "source": [
    "Q1 = AFM['Monetary'].quantile(0.25)\n",
    "Q3 = AFM['Monetary'].quantile(0.75)\n",
    "IQR = Q3 - Q1\n",
    "AFM = AFM[~(AFM['Monetary'] < (Q1 - 1.5 * IQR)) | (AFM['Monetary'] > (Q3 + 1.5 * IQR))]\n",
    "AFM"
   ]
  },
  {
   "cell_type": "code",
   "execution_count": 131,
   "metadata": {},
   "outputs": [
    {
     "name": "stdout",
     "output_type": "stream",
     "text": [
      "[[ 1.44027256 -0.45543957 -0.26434344]\n",
      " [ 0.57972735 -0.45543957 -0.21680465]\n",
      " [ 0.5484348   0.57084803  0.19608038]\n",
      " ...\n",
      " [ 0.62666618  0.31427613 -0.2061092 ]\n",
      " [ 0.15727788 -0.45543957 -0.21521372]\n",
      " [-0.6563285  -0.45543957 -0.23485616]]\n"
     ]
    }
   ],
   "source": [
    "#標準化\n",
    "from sklearn.preprocessing import StandardScaler\n",
    "\n",
    "AFM_scaled = StandardScaler().fit_transform(AFM[['Activity','Frequency','Monetary']])\n",
    "print(AFM_scaled)"
   ]
  },
  {
   "cell_type": "code",
   "execution_count": 137,
   "metadata": {},
   "outputs": [
    {
     "data": {
      "text/plain": [
       "[<matplotlib.lines.Line2D at 0x44ed89250>]"
      ]
     },
     "execution_count": 137,
     "metadata": {},
     "output_type": "execute_result"
    },
    {
     "data": {
      "image/png": "[encoded data removed]",
      "text/plain": [
       "<Figure size 640x480 with 1 Axes>"
      ]
     },
     "metadata": {},
     "output_type": "display_data"
    }
   ],
   "source": [
    "# elbow method 決定適合的k\n",
    "from sklearn.cluster import KMeans\n",
    "from sklearn.metrics import silhouette_score\n",
    "WCSS=[]\n",
    "\n",
    "for k in range(2,10):\n",
    "    km = KMeans(n_clusters=k,random_state=42)\n",
    "    km.fit(AFM_scaled) #用資料去訓練模型\n",
    "    WCSS.append(km.inertia_) #km.inertia_ 是ＷＣＳＳ的值\n",
    "\n",
    "plt.plot(range(2,10),WCSS)\n",
    "\n",
    "\n",
    "\n"
   ]
  },
  {
   "cell_type": "code",
   "execution_count": 133,
   "metadata": {},
   "outputs": [],
   "source": [
    "# kmeans\n",
    "\n",
    "kmeans = KMeans(n_clusters=4, random_state=42)\n",
    "AFM[\"Cluster\"] = kmeans.fit_predict(AFM_scaled)"
   ]
  },
  {
   "cell_type": "code",
   "execution_count": 134,
   "metadata": {},
   "outputs": [
    {
     "data": {
      "text/html": [
       "<div>\n",
       "<style scoped>\n",
       "    .dataframe tbody tr th:only-of-type {\n",
       "        vertical-align: middle;\n",
       "    }\n",
       "\n",
       "    .dataframe tbody tr th {\n",
       "        vertical-align: top;\n",
       "    }\n",
       "\n",
       "    .dataframe thead th {\n",
       "        text-align: right;\n",
       "    }\n",
       "</style>\n",
       "<table border=\"1\" class=\"dataframe\">\n",
       "  <thead>\n",
       "    <tr style=\"text-align: right;\">\n",
       "      <th></th>\n",
       "      <th>Activity</th>\n",
       "      <th>Frequency</th>\n",
       "      <th>Monetary</th>\n",
       "    </tr>\n",
       "    <tr>\n",
       "      <th>Cluster</th>\n",
       "      <th></th>\n",
       "      <th></th>\n",
       "      <th></th>\n",
       "    </tr>\n",
       "  </thead>\n",
       "  <tbody>\n",
       "    <tr>\n",
       "      <th>0</th>\n",
       "      <td>191.179775</td>\n",
       "      <td>6.707865</td>\n",
       "      <td>332.457528</td>\n",
       "    </tr>\n",
       "    <tr>\n",
       "      <th>1</th>\n",
       "      <td>136.000000</td>\n",
       "      <td>1.000000</td>\n",
       "      <td>16032.750000</td>\n",
       "    </tr>\n",
       "    <tr>\n",
       "      <th>2</th>\n",
       "      <td>757.000000</td>\n",
       "      <td>86.000000</td>\n",
       "      <td>25.930000</td>\n",
       "    </tr>\n",
       "    <tr>\n",
       "      <th>3</th>\n",
       "      <td>53.363506</td>\n",
       "      <td>2.155172</td>\n",
       "      <td>130.699239</td>\n",
       "    </tr>\n",
       "  </tbody>\n",
       "</table>\n",
       "</div>"
      ],
      "text/plain": [
       "           Activity  Frequency      Monetary\n",
       "Cluster                                     \n",
       "0        191.179775   6.707865    332.457528\n",
       "1        136.000000   1.000000  16032.750000\n",
       "2        757.000000  86.000000     25.930000\n",
       "3         53.363506   2.155172    130.699239"
      ]
     },
     "execution_count": 134,
     "metadata": {},
     "output_type": "execute_result"
    }
   ],
   "source": [
    "AFMC= AFM.groupby(\"Cluster\")[[\"Activity\",\"Frequency\",\"Monetary\"]].mean()\n",
    "AFMC"
   ]
  },
  {
   "cell_type": "code",
   "execution_count": 135,
   "metadata": {},
   "outputs": [
    {
     "data": {
      "text/html": [
       "<div>\n",
       "<style scoped>\n",
       "    .dataframe tbody tr th:only-of-type {\n",
       "        vertical-align: middle;\n",
       "    }\n",
       "\n",
       "    .dataframe tbody tr th {\n",
       "        vertical-align: top;\n",
       "    }\n",
       "\n",
       "    .dataframe thead th {\n",
       "        text-align: right;\n",
       "    }\n",
       "</style>\n",
       "<table border=\"1\" class=\"dataframe\">\n",
       "  <thead>\n",
       "    <tr style=\"text-align: right;\">\n",
       "      <th></th>\n",
       "      <th>Activity</th>\n",
       "      <th>Frequency</th>\n",
       "      <th>Monetary</th>\n",
       "    </tr>\n",
       "    <tr>\n",
       "      <th>Cluster</th>\n",
       "      <th></th>\n",
       "      <th></th>\n",
       "      <th></th>\n",
       "    </tr>\n",
       "  </thead>\n",
       "  <tbody>\n",
       "    <tr>\n",
       "      <th>0</th>\n",
       "      <td>89</td>\n",
       "      <td>89</td>\n",
       "      <td>89</td>\n",
       "    </tr>\n",
       "    <tr>\n",
       "      <th>1</th>\n",
       "      <td>1</td>\n",
       "      <td>1</td>\n",
       "      <td>1</td>\n",
       "    </tr>\n",
       "    <tr>\n",
       "      <th>2</th>\n",
       "      <td>1</td>\n",
       "      <td>1</td>\n",
       "      <td>1</td>\n",
       "    </tr>\n",
       "    <tr>\n",
       "      <th>3</th>\n",
       "      <td>696</td>\n",
       "      <td>696</td>\n",
       "      <td>696</td>\n",
       "    </tr>\n",
       "  </tbody>\n",
       "</table>\n",
       "</div>"
      ],
      "text/plain": [
       "         Activity  Frequency  Monetary\n",
       "Cluster                               \n",
       "0              89         89        89\n",
       "1               1          1         1\n",
       "2               1          1         1\n",
       "3             696        696       696"
      ]
     },
     "execution_count": 135,
     "metadata": {},
     "output_type": "execute_result"
    }
   ],
   "source": [
    "AFM.groupby(\"Cluster\")[[\"Activity\",\"Frequency\",\"Monetary\"]].count()"
   ]
  },
  {
   "cell_type": "markdown",
   "metadata": {},
   "source": [
    "- Cluster 0：高價值、中度瀏覽的沉睡客戶\n",
    "- Cluster 1：一次性超高價值的低瀏覽客戶\n",
    "- Cluster 2：將流失的高瀏覽量忠實訪客\n",
    "- Cluster 3：極具潛力的新進高瀏覽客戶"
   ]
  },
  {
   "cell_type": "markdown",
   "metadata": {},
   "source": [
    "## Step5:Insight,Summary and Next step"
   ]
  },
  {
   "cell_type": "markdown",
   "metadata": {},
   "source": []
  },
  {
   "cell_type": "markdown",
   "metadata": {},
   "source": [
    "## Insight:\n",
    "- 週末的流量偏低？推測主要訪客是基於活動或企業採購，因此才會於平日時段造訪此網站\n",
    "- 平均停留時間約四分鐘，短暫停留比例約4成\n",
    "- 主要訪客是來自於USA，USA的轉換率也是所有國家中最高，值得注意的是Canada、India、UK，這幾個訪問量較低，但轉換率好的國家\n",
    "- Organic Search（自然搜尋）和 Social（社群媒體）的數值偏低，這可能意味著網站的內容行銷（SEO）或社群媒體經營還有很大的成長空間。值得注意的是Display、Paid Search廣告的轉換率並不好\n",
    "- 大部分的人都是桌電，可以應證訪客很可能大部分都是因活動或企業採購用途\n",
    "- 客戶可以簡單分為\n",
    "    - Cluster 0：高價值、中度瀏覽的沉睡客戶\n",
    "    - Cluster 1：一次性超高價值的低瀏覽客戶\n",
    "    - Cluster 2：將流失的高瀏覽量忠實訪客\n",
    "    - Cluster 3：極具潛力的新進高瀏覽客戶\n",
    "## Summary:\n",
    "- 網站流量在九月呈現週期性的變化，普遍平日流量比週末來的高，推斷是主要訪客是基於企業活動或採購，因此才會於平日時段造訪。\n",
    "- 主要訪客來自USA，可以注意潛在消費力的國家（Canada、India、UK）。\n",
    "- 在廣告面要特別注意廣告投放的表現，以及行銷面要留意社群媒體上的行銷。\n",
    "- 可以針對分群結果採取不同的手段。\n",
    "## Next Step:\n",
    "- 針對不同地區優化廣告投放的策略\n",
    "- 拉出主要造訪的企業，可以根據分群結果，對不同客戶推出方案\n",
    "    - Cluster 0：高價值、中度瀏覽的沉睡客戶 >> 花費偏高但活動度一般，可以利用綑綁優惠及活動，讓客戶看到更多商品\n",
    "    - Cluster 1：一次性超高價值的低瀏覽客戶 >> 超級VIP客戶，客戶知道自己需要什麼，可以推出固定合作方案\n",
    "    - Cluster 2：將流失的高瀏覽量忠實訪客 >> 此類客戶活動度較高，但花費偏低，可以請業務特別了解客戶需求\n",
    "    - Cluster 3：極具潛力的新進高瀏覽客戶 >> 屬於潛在客戶，有一般的花費但活動度偏低，可以推出優惠方案刺激消費"
   ]
  },
  {
   "cell_type": "markdown",
   "metadata": {},
   "source": []
  }
 ],
 "metadata": {
  "kernelspec": {
   "display_name": "test2",
   "language": "python",
   "name": "test2"
  },
  "language_info": {
   "codemirror_mode": {
    "name": "ipython",
    "version": 3
   },
   "file_extension": ".py",
   "mimetype": "text/x-python",
   "name": "python",
   "nbconvert_exporter": "python",
   "pygments_lexer": "ipython3",
   "version": "3.9.21"
  }
 },
 "nbformat": 4,
 "nbformat_minor": 2
}
